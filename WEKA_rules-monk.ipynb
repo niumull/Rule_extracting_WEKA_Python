{
 "cells": [
  {
   "cell_type": "code",
   "execution_count": 1,
   "metadata": {
    "collapsed": true
   },
   "outputs": [],
   "source": [
    "import weka.core.jvm as jvm\n",
    "from weka.core.converters import Loader\n",
    "import weka.core.converters as converters\n",
    "from weka.filters import Filter\n",
    "from weka.associations import Associator\n",
    "import arff\n",
    "import pandas as pd\n",
    "import numpy as np"
   ]
  },
  {
   "cell_type": "code",
   "execution_count": 2,
   "metadata": {},
   "outputs": [
    {
     "name": "stderr",
     "output_type": "stream",
     "text": [
      "DEBUG:weka.core.jvm:Adding bundled jars\n",
      "DEBUG:weka.core.jvm:Classpath=['/Users/mniu/Applications/anaconda2/lib/python2.7/site-packages/javabridge/jars/rhino-1.7R4.jar', '/Users/mniu/Applications/anaconda2/lib/python2.7/site-packages/javabridge/jars/runnablequeue.jar', '/Users/mniu/Applications/anaconda2/lib/python2.7/site-packages/javabridge/jars/cpython.jar', '/Users/mniu/Applications/anaconda2/lib/python2.7/site-packages/weka/lib/python-weka-wrapper.jar', '/Users/mniu/Applications/anaconda2/lib/python2.7/site-packages/weka/lib/weka.jar']\n",
      "DEBUG:weka.core.jvm:MaxHeapSize=default\n",
      "DEBUG:javabridge.jutil:Creating JVM object\n",
      "DEBUG:javabridge.jutil:Launching VM in non-python thread\n",
      "DEBUG:javabridge.jutil:Attaching to VM in monitor thread\n",
      "DEBUG:javabridge.jutil:Signalling caller\n"
     ]
    },
    {
     "data": {
      "text/html": [
       "<div>\n",
       "<style>\n",
       "    .dataframe thead tr:only-child th {\n",
       "        text-align: right;\n",
       "    }\n",
       "\n",
       "    .dataframe thead th {\n",
       "        text-align: left;\n",
       "    }\n",
       "\n",
       "    .dataframe tbody tr th {\n",
       "        vertical-align: top;\n",
       "    }\n",
       "</style>\n",
       "<table border=\"1\" class=\"dataframe\">\n",
       "  <thead>\n",
       "    <tr style=\"text-align: right;\">\n",
       "      <th></th>\n",
       "      <th>head_shape</th>\n",
       "      <th>body_shape</th>\n",
       "      <th>is_smiling</th>\n",
       "      <th>holding</th>\n",
       "      <th>jacket_color</th>\n",
       "      <th>has_tie</th>\n",
       "      <th>Class</th>\n",
       "    </tr>\n",
       "  </thead>\n",
       "  <tbody>\n",
       "    <tr>\n",
       "      <th>0</th>\n",
       "      <td>1</td>\n",
       "      <td>1</td>\n",
       "      <td>1</td>\n",
       "      <td>1</td>\n",
       "      <td>3</td>\n",
       "      <td>1</td>\n",
       "      <td>1</td>\n",
       "    </tr>\n",
       "    <tr>\n",
       "      <th>1</th>\n",
       "      <td>1</td>\n",
       "      <td>1</td>\n",
       "      <td>1</td>\n",
       "      <td>1</td>\n",
       "      <td>3</td>\n",
       "      <td>2</td>\n",
       "      <td>1</td>\n",
       "    </tr>\n",
       "    <tr>\n",
       "      <th>2</th>\n",
       "      <td>1</td>\n",
       "      <td>1</td>\n",
       "      <td>1</td>\n",
       "      <td>3</td>\n",
       "      <td>2</td>\n",
       "      <td>1</td>\n",
       "      <td>1</td>\n",
       "    </tr>\n",
       "    <tr>\n",
       "      <th>3</th>\n",
       "      <td>1</td>\n",
       "      <td>1</td>\n",
       "      <td>1</td>\n",
       "      <td>3</td>\n",
       "      <td>3</td>\n",
       "      <td>2</td>\n",
       "      <td>1</td>\n",
       "    </tr>\n",
       "    <tr>\n",
       "      <th>4</th>\n",
       "      <td>1</td>\n",
       "      <td>1</td>\n",
       "      <td>2</td>\n",
       "      <td>1</td>\n",
       "      <td>2</td>\n",
       "      <td>1</td>\n",
       "      <td>1</td>\n",
       "    </tr>\n",
       "  </tbody>\n",
       "</table>\n",
       "</div>"
      ],
      "text/plain": [
       "   head_shape  body_shape  is_smiling  holding  jacket_color  has_tie  Class\n",
       "0           1           1           1        1             3        1      1\n",
       "1           1           1           1        1             3        2      1\n",
       "2           1           1           1        3             2        1      1\n",
       "3           1           1           1        3             3        2      1\n",
       "4           1           1           2        1             2        1      1"
      ]
     },
     "execution_count": 2,
     "metadata": {},
     "output_type": "execute_result"
    }
   ],
   "source": [
    "jvm.start()\n",
    "\n",
    "# Attribute information:\n",
    "# Class: {0, 1}, {}\n",
    "# head_shape: {1, 2, 3}, {round, square, octagon}\n",
    "# body_shape: {1, 2, 3}, {round, square, octagon}\n",
    "# is_smiling: {1, 2}, {yes, no}\n",
    "# holding: {1, 2, 3}, {sword, flag, ballon}\n",
    "# jacket_color: {1, 2, 3, 4}, {red, yellow, green, blue}\n",
    "# has_tie: {1, 2}, {yes, no}\n",
    "\n",
    "column_names = ['Class', 'head_shape', 'body_shape', 'is_smiling', 'holding', 'jacket_color', 'has_tie']\n",
    "train_set = pd.read_csv('monks-1.csv', names=column_names)\n",
    "attr_names = ['head_shape', 'body_shape', 'is_smiling', 'holding', 'jacket_color', 'has_tie', 'Class']\n",
    "train_set = train_set[attr_names]\n",
    "data = np.array(train_set).tolist()\n",
    "arff.dump('monk-1.arff', data, names=attr_names)\n",
    "train_set.head()"
   ]
  },
  {
   "cell_type": "code",
   "execution_count": 3,
   "metadata": {
    "collapsed": true
   },
   "outputs": [],
   "source": [
    "loader = Loader(\"weka.core.converters.ArffLoader\")\n",
    "arff_data = loader.load_file('monk-1.arff')\n",
    "nominal = Filter(classname=\"weka.filters.unsupervised.attribute.NumericToNominal\", options=[\"-R\", \"first-last\"])\n",
    "nominal.inputformat(arff_data)\n",
    "nominal_data = nominal.filter(arff_data)\n",
    "nominal_data.class_is_last()"
   ]
  },
  {
   "cell_type": "code",
   "execution_count": 4,
   "metadata": {
    "collapsed": true
   },
   "outputs": [],
   "source": [
    "rule_number = 1000\n",
    "conf_min = 0.3"
   ]
  },
  {
   "cell_type": "code",
   "execution_count": 5,
   "metadata": {
    "collapsed": true
   },
   "outputs": [],
   "source": [
    "associator = Associator(classname=\"weka.associations.Apriori\", \n",
    "                        options=['-N', str(rule_number), '-T', '0', '-C', str(conf_min), '-D', '0.05',\n",
    "                                 '-U', '1.0', '-M', '0.1', '-S', '-1.0', '-A', '-c', '-1'])\n",
    "associator.build_associations(nominal_data)\n",
    "\n",
    "Rule_report = str(associator).split('\\n')\n",
    "for i in range(len(Rule_report)):\n",
    "    if Rule_report[i] == 'Best rules found:':\n",
    "        best_rules = Rule_report[i+2:len(Rule_report)-1]\n",
    "        \n",
    "actual_rule_number = int(best_rules[len(best_rules)-1][:3])\n",
    "\n",
    "for i in range(len(best_rules)):\n",
    "    best_rules[i] = best_rules[i][5:]"
   ]
  },
  {
   "cell_type": "code",
   "execution_count": 6,
   "metadata": {},
   "outputs": [
    {
     "data": {
      "text/plain": [
       "'jacket_color=1 29 ==> Class=1 29    conf:(1)'"
      ]
     },
     "execution_count": 6,
     "metadata": {},
     "output_type": "execute_result"
    }
   ],
   "source": [
    "best_rules[0]"
   ]
  },
  {
   "cell_type": "code",
   "execution_count": 7,
   "metadata": {},
   "outputs": [
    {
     "data": {
      "text/plain": [
       "67"
      ]
     },
     "execution_count": 7,
     "metadata": {},
     "output_type": "execute_result"
    }
   ],
   "source": [
    "actual_rule_number"
   ]
  },
  {
   "cell_type": "code",
   "execution_count": 8,
   "metadata": {},
   "outputs": [],
   "source": [
    "rule_list_fit = []\n",
    "for j in range(actual_rule_number):\n",
    "    a = best_rules[j].split(' ')\n",
    "    if len(a[len(a)-1])==8:\n",
    "        a[len(a)-1] = a[len(a)-1][:len(a[len(a)-1])-1]+'.00'+a[len(a)-1][len(a[len(a)-1])-1:]\n",
    "    elif len(a[len(a)-1])==10:\n",
    "        a[len(a)-1] = a[len(a)-1][:9]+'0'+a[len(a)-1][9:]\n",
    "        \n",
    "    for i in range(len(attr_names)):\n",
    "        if (attr_names[i] in best_rules[j])==False:\n",
    "            a.insert(i,attr_names[i]+'= ')\n",
    "            \n",
    "    rule_list_fit.append(a)"
   ]
  },
  {
   "cell_type": "code",
   "execution_count": 9,
   "metadata": {},
   "outputs": [
    {
     "data": {
      "text/html": [
       "<div>\n",
       "<style>\n",
       "    .dataframe thead tr:only-child th {\n",
       "        text-align: right;\n",
       "    }\n",
       "\n",
       "    .dataframe thead th {\n",
       "        text-align: left;\n",
       "    }\n",
       "\n",
       "    .dataframe tbody tr th {\n",
       "        vertical-align: top;\n",
       "    }\n",
       "</style>\n",
       "<table border=\"1\" class=\"dataframe\">\n",
       "  <thead>\n",
       "    <tr style=\"text-align: right;\">\n",
       "      <th></th>\n",
       "      <th>head_shape</th>\n",
       "      <th>body_shape</th>\n",
       "      <th>is_smiling</th>\n",
       "      <th>holding</th>\n",
       "      <th>jacket_color</th>\n",
       "      <th>has_tie</th>\n",
       "      <th>Support</th>\n",
       "      <th></th>\n",
       "      <th>Class</th>\n",
       "      <th>Support</th>\n",
       "      <th>Confidence</th>\n",
       "    </tr>\n",
       "  </thead>\n",
       "  <tbody>\n",
       "    <tr>\n",
       "      <th>0</th>\n",
       "      <td></td>\n",
       "      <td></td>\n",
       "      <td></td>\n",
       "      <td></td>\n",
       "      <td>1</td>\n",
       "      <td></td>\n",
       "      <td>29</td>\n",
       "      <td>--&gt;</td>\n",
       "      <td>1</td>\n",
       "      <td>29</td>\n",
       "      <td>1.00</td>\n",
       "    </tr>\n",
       "    <tr>\n",
       "      <th>1</th>\n",
       "      <td>3</td>\n",
       "      <td>3</td>\n",
       "      <td></td>\n",
       "      <td></td>\n",
       "      <td></td>\n",
       "      <td></td>\n",
       "      <td>17</td>\n",
       "      <td>--&gt;</td>\n",
       "      <td>1</td>\n",
       "      <td>17</td>\n",
       "      <td>1.00</td>\n",
       "    </tr>\n",
       "    <tr>\n",
       "      <th>2</th>\n",
       "      <td></td>\n",
       "      <td></td>\n",
       "      <td>1</td>\n",
       "      <td></td>\n",
       "      <td>1</td>\n",
       "      <td></td>\n",
       "      <td>17</td>\n",
       "      <td>--&gt;</td>\n",
       "      <td>1</td>\n",
       "      <td>17</td>\n",
       "      <td>1.00</td>\n",
       "    </tr>\n",
       "    <tr>\n",
       "      <th>3</th>\n",
       "      <td></td>\n",
       "      <td></td>\n",
       "      <td></td>\n",
       "      <td></td>\n",
       "      <td>1</td>\n",
       "      <td>1</td>\n",
       "      <td>16</td>\n",
       "      <td>--&gt;</td>\n",
       "      <td>1</td>\n",
       "      <td>16</td>\n",
       "      <td>1.00</td>\n",
       "    </tr>\n",
       "    <tr>\n",
       "      <th>4</th>\n",
       "      <td>2</td>\n",
       "      <td>2</td>\n",
       "      <td></td>\n",
       "      <td></td>\n",
       "      <td></td>\n",
       "      <td></td>\n",
       "      <td>15</td>\n",
       "      <td>--&gt;</td>\n",
       "      <td>1</td>\n",
       "      <td>15</td>\n",
       "      <td>1.00</td>\n",
       "    </tr>\n",
       "  </tbody>\n",
       "</table>\n",
       "</div>"
      ],
      "text/plain": [
       "  head_shape body_shape is_smiling holding jacket_color has_tie Support       \\\n",
       "0                                                     1              29  -->   \n",
       "1          3          3                                              17  -->   \n",
       "2                                1                    1              17  -->   \n",
       "3                                                     1       1      16  -->   \n",
       "4          2          2                                              15  -->   \n",
       "\n",
       "  Class Support Confidence  \n",
       "0     1      29       1.00  \n",
       "1     1      17       1.00  \n",
       "2     1      17       1.00  \n",
       "3     1      16       1.00  \n",
       "4     1      15       1.00  "
      ]
     },
     "execution_count": 9,
     "metadata": {},
     "output_type": "execute_result"
    }
   ],
   "source": [
    "rule_table = []\n",
    "for j in range(actual_rule_number):\n",
    "    n = []\n",
    "    for i in range(len(attr_names)-1):\n",
    "        n.append(rule_list_fit[j][i][len(rule_list_fit[j][i])-1:])\n",
    "    n.extend([rule_list_fit[j][len(attr_names)-1]])\n",
    "    n.extend(['-->'])\n",
    "    n.extend(rule_list_fit[j][len(attr_names)+1][len(rule_list_fit[1][10])-1:])\n",
    "    n.extend([rule_list_fit[j][len(attr_names)+2]])\n",
    "    n.extend([rule_list_fit[j][len(attr_names)+6][6:10]])\n",
    "    rule_table.append(n)\n",
    "    \n",
    "column_names = train_set.columns.values.tolist()\n",
    "column_names.insert(6,'Support')\n",
    "column_names.insert(7,'')\n",
    "column_names.extend(['Support','Confidence'])\n",
    "df = pd.DataFrame(rule_table, columns=column_names)\n",
    "df.to_csv('monk-1_rules.csv')\n",
    "df.head()"
   ]
  },
  {
   "cell_type": "code",
   "execution_count": null,
   "metadata": {
    "collapsed": true
   },
   "outputs": [],
   "source": []
  },
  {
   "cell_type": "code",
   "execution_count": null,
   "metadata": {
    "collapsed": true
   },
   "outputs": [],
   "source": []
  },
  {
   "cell_type": "code",
   "execution_count": null,
   "metadata": {
    "collapsed": true
   },
   "outputs": [],
   "source": []
  }
 ],
 "metadata": {
  "kernelspec": {
   "display_name": "Python 2",
   "language": "python",
   "name": "python2"
  },
  "language_info": {
   "codemirror_mode": {
    "name": "ipython",
    "version": 2
   },
   "file_extension": ".py",
   "mimetype": "text/x-python",
   "name": "python",
   "nbconvert_exporter": "python",
   "pygments_lexer": "ipython2",
   "version": "2.7.13"
  }
 },
 "nbformat": 4,
 "nbformat_minor": 2
}
